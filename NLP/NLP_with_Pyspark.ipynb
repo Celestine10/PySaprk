{
 "cells": [
  {
   "cell_type": "code",
   "execution_count": 2,
   "id": "ddf48972-f576-46ec-8efe-bbf1eab58011",
   "metadata": {},
   "outputs": [],
   "source": [
    "import pyspark\n",
    "import pandas as pd\n",
    "from pyspark import SparkContext\n"
   ]
  },
  {
   "cell_type": "code",
   "execution_count": 3,
   "id": "d8853011-ace9-48c8-a7f6-bef3540d7a66",
   "metadata": {},
   "outputs": [
    {
     "data": {
      "text/html": [
       "\n",
       "        <div>\n",
       "            <p><b>SparkContext</b></p>\n",
       "\n",
       "            <p><a href=\"http://host.docker.internal:4040\">Spark UI</a></p>\n",
       "\n",
       "            <dl>\n",
       "              <dt>Version</dt>\n",
       "                <dd><code>v3.3.0</code></dd>\n",
       "              <dt>Master</dt>\n",
       "                <dd><code>local[2]</code></dd>\n",
       "              <dt>AppName</dt>\n",
       "                <dd><code>pyspark-shell</code></dd>\n",
       "            </dl>\n",
       "        </div>\n",
       "        "
      ],
      "text/plain": [
       "<SparkContext master=local[2] appName=pyspark-shell>"
      ]
     },
     "execution_count": 3,
     "metadata": {},
     "output_type": "execute_result"
    }
   ],
   "source": [
    "sc = SparkContext(master=\"local[2]\")\n",
    "sc"
   ]
  },
  {
   "cell_type": "markdown",
   "id": "e1006ec0-fa0d-4c29-8514-e279f955d237",
   "metadata": {},
   "source": [
    "In the above output, the Spark UI is a link that opens the Spark dashboard in localhost: http://192.168.0.6:4040/, which will be running in the background. When one clicks the link it will open a Spark dashboard that shows the available jobs running on our machine. Currently, we have no running jobs as shown:"
   ]
  },
  {
   "cell_type": "markdown",
   "id": "2c5a9ead-b759-4700-b545-d93466a70156",
   "metadata": {},
   "source": [
    "### Creating SparkSession\n",
    "By creating SparkSession, it enables us to interact with the different Spark functionalities. The functionalities include data analysis and creating our text classification model.\n",
    "\n"
   ]
  },
  {
   "cell_type": "code",
   "execution_count": 4,
   "id": "de4d52db-f88d-453b-95da-f20a09cb1934",
   "metadata": {},
   "outputs": [],
   "source": [
    "from pyspark.sql import SparkSession "
   ]
  },
  {
   "cell_type": "markdown",
   "id": "4dbcb26e-e15c-43a2-90f8-df7882bd866c",
   "metadata": {},
   "source": [
    "## Initializing the TextClassifier\n",
    "\n",
    "Using the imported SparkSession we can now initialize our app.\n",
    "\n"
   ]
  },
  {
   "cell_type": "code",
   "execution_count": 6,
   "id": "c3827ea7-d033-44eb-8ef2-b5190691dcf9",
   "metadata": {},
   "outputs": [],
   "source": [
    "spark = SparkSession.builder.appName(\"TextClassifier\").getOrCreate()"
   ]
  },
  {
   "cell_type": "markdown",
   "id": "f6af2fa6-f66b-4e15-9a99-a6bfb5a002fe",
   "metadata": {},
   "source": [
    "We use the builder.appName() method to give a name to our app.\n",
    "\n",
    "After initializing our app, we can now view our launched UI to see the running jobs. The running jobs are shown below:"
   ]
  },
  {
   "cell_type": "markdown",
   "id": "bede31dd-5b9f-4bf1-abe9-e56fa951d87e",
   "metadata": {},
   "source": [
    "We use the Udemy dataset that contains all the courses offered by Udemy. The dataset contains the course title and subject they belong"
   ]
  },
  {
   "cell_type": "code",
   "execution_count": 7,
   "id": "5ec480b6-526b-43cc-9e8f-008afd653cfc",
   "metadata": {},
   "outputs": [],
   "source": [
    "df = spark.read.csv(\"udemy_dataset.csv\",header=True,inferSchema=True)"
   ]
  },
  {
   "cell_type": "code",
   "execution_count": 8,
   "id": "5eb85218-f32a-4051-b321-46eb130d963f",
   "metadata": {},
   "outputs": [
    {
     "name": "stdout",
     "output_type": "stream",
     "text": [
      "+---+---------+--------------------+--------------------+-------+-----+---------------+-----------+------------+------------------+----------------+--------------------+----------------+--------------------+\n",
      "|_c0|course_id|        course_title|                 url|is_paid|price|num_subscribers|num_reviews|num_lectures|             level|content_duration| published_timestamp|         subject|  clean_course_title|\n",
      "+---+---------+--------------------+--------------------+-------+-----+---------------+-----------+------------+------------------+----------------+--------------------+----------------+--------------------+\n",
      "|  0|  1070968|Ultimate Investme...|https://www.udemy...|   True|  200|           2147|         23|          51|        All Levels|       1.5 hours|2017-01-18T20:58:58Z|Business Finance|Ultimate Investme...|\n",
      "|  1|  1113822|Complete GST Cour...|https://www.udemy...|   True|   75|           2792|        923|         274|        All Levels|        39 hours|2017-03-09T16:34:20Z|Business Finance|Complete GST Cour...|\n",
      "|  2|  1006314|Financial Modelin...|https://www.udemy...|   True|   45|           2174|         74|          51|Intermediate Level|       2.5 hours|2016-12-19T19:26:30Z|Business Finance|Financial Modelin...|\n",
      "|  3|  1210588|Beginner to Pro -...|https://www.udemy...|   True|   95|           2451|         11|          36|        All Levels|         3 hours|2017-05-30T20:07:24Z|Business Finance|Beginner Pro  Fin...|\n",
      "|  4|  1011058|How To Maximize Y...|https://www.udemy...|   True|  200|           1276|         45|          26|Intermediate Level|         2 hours|2016-12-13T14:57:18Z|Business Finance|Maximize Profits ...|\n",
      "|  5|   192870|Trading Penny Sto...|https://www.udemy...|   True|  150|           9221|        138|          25|        All Levels|         3 hours|2014-05-02T15:13:30Z|Business Finance|Trading Penny Sto...|\n",
      "|  6|   739964|Investing And Tra...|https://www.udemy...|   True|   65|           1540|        178|          26|    Beginner Level|          1 hour|2016-02-21T18:23:12Z|Business Finance|Investing Trading...|\n",
      "|  7|   403100|Trading Stock Cha...|https://www.udemy...|   True|   95|           2917|        148|          23|        All Levels|       2.5 hours|2015-01-30T22:13:03Z|Business Finance|Trading Stock Cha...|\n",
      "|  8|   476268|Options Trading 3...|https://www.udemy...|   True|  195|           5172|         34|          38|      Expert Level|       2.5 hours|2015-05-28T00:14:03Z|Business Finance|Options Trading 3...|\n",
      "|  9|  1167710|The Only Investme...|https://www.udemy...|   True|  200|            827|         14|          15|        All Levels|          1 hour|2017-04-18T18:13:32Z|Business Finance|Investment Strate...|\n",
      "| 10|   592338|Forex Trading Sec...|https://www.udemy...|   True|  200|           4284|         93|          76|        All Levels|         5 hours|2015-09-11T16:47:02Z|Business Finance|Forex Trading Sec...|\n",
      "| 11|   975046|Trading Options W...|https://www.udemy...|   True|  200|           1380|         42|          17|        All Levels|          1 hour|2016-10-18T22:52:31Z|Business Finance|Trading Options M...|\n",
      "| 12|   742602|Financial Managem...|https://www.udemy...|   True|   30|           3607|         21|          19|        All Levels|       1.5 hours|2016-02-03T18:04:01Z|Business Finance|Financial Managem...|\n",
      "| 13|   794151|Forex Trading Cou...|https://www.udemy...|   True|  195|           4061|         52|          16|        All Levels|         2 hours|2016-03-16T15:40:19Z|Business Finance|Forex Trading Cou...|\n",
      "| 14|  1196544|Python Algo Tradi...|https://www.udemy...|   True|  200|            294|         19|          42|        All Levels|         7 hours|2017-04-28T16:41:44Z|Business Finance|Python Algo Tradi...|\n",
      "| 15|   504036|Short Selling: Le...|https://www.udemy...|   True|   75|           2276|        106|          19|Intermediate Level|       1.5 hours|2015-06-22T21:18:35Z|Business Finance|Short Selling Lea...|\n",
      "| 16|   719698|Basic Technical A...|https://www.udemy...|   True|   20|           4919|         79|          16|    Beginner Level|       1.5 hours|2016-01-08T17:21:26Z|Business Finance|Basic Technical A...|\n",
      "| 17|   564966|The Complete Char...|https://www.udemy...|   True|  200|           2666|        115|          52|        All Levels|         4 hours|2015-08-10T21:07:35Z|Business Finance|Complete Chart Pa...|\n",
      "| 18|   606928|7 Deadly Mistakes...|https://www.udemy...|   True|   50|           5354|         24|          23|        All Levels|       1.5 hours|2015-09-21T18:10:34Z|Business Finance|7 Deadly Mistakes...|\n",
      "| 19|    58977|Financial Stateme...|https://www.udemy...|   True|   95|           8095|        249|          12|    Beginner Level|         35 mins|2013-06-09T00:21:26Z|Business Finance|Financial Stateme...|\n",
      "+---+---------+--------------------+--------------------+-------+-----+---------------+-----------+------------+------------------+----------------+--------------------+----------------+--------------------+\n",
      "only showing top 20 rows\n",
      "\n"
     ]
    }
   ],
   "source": [
    "df.show()"
   ]
  },
  {
   "cell_type": "code",
   "execution_count": 9,
   "id": "c7c2be7c-990e-4c7c-a2c5-5513b58bd289",
   "metadata": {},
   "outputs": [
    {
     "data": {
      "text/plain": [
       "['_c0',\n",
       " 'course_id',\n",
       " 'course_title',\n",
       " 'url',\n",
       " 'is_paid',\n",
       " 'price',\n",
       " 'num_subscribers',\n",
       " 'num_reviews',\n",
       " 'num_lectures',\n",
       " 'level',\n",
       " 'content_duration',\n",
       " 'published_timestamp',\n",
       " 'subject',\n",
       " 'clean_course_title']"
      ]
     },
     "execution_count": 9,
     "metadata": {},
     "output_type": "execute_result"
    }
   ],
   "source": [
    "df.columns"
   ]
  },
  {
   "cell_type": "markdown",
   "id": "35fba5af-94fa-4c8c-ae50-aabd8ceb001f",
   "metadata": {},
   "source": [
    "We will only need the course_title and subject columns in building our model.\n",
    "\n",
    "#### Selecting the needed columns\n",
    "We select the course_title and subject columns. These are the columns we will use in building our model.\n",
    "\n"
   ]
  },
  {
   "cell_type": "code",
   "execution_count": 10,
   "id": "8bdfa79d-6c6e-4afb-9bb9-5b306fa1bd96",
   "metadata": {},
   "outputs": [
    {
     "name": "stdout",
     "output_type": "stream",
     "text": [
      "+--------------------+----------------+\n",
      "|        course_title|         subject|\n",
      "+--------------------+----------------+\n",
      "|Ultimate Investme...|Business Finance|\n",
      "|Complete GST Cour...|Business Finance|\n",
      "|Financial Modelin...|Business Finance|\n",
      "|Beginner to Pro -...|Business Finance|\n",
      "|How To Maximize Y...|Business Finance|\n",
      "|Trading Penny Sto...|Business Finance|\n",
      "|Investing And Tra...|Business Finance|\n",
      "|Trading Stock Cha...|Business Finance|\n",
      "|Options Trading 3...|Business Finance|\n",
      "|The Only Investme...|Business Finance|\n",
      "|Forex Trading Sec...|Business Finance|\n",
      "|Trading Options W...|Business Finance|\n",
      "|Financial Managem...|Business Finance|\n",
      "|Forex Trading Cou...|Business Finance|\n",
      "|Python Algo Tradi...|Business Finance|\n",
      "|Short Selling: Le...|Business Finance|\n",
      "|Basic Technical A...|Business Finance|\n",
      "|The Complete Char...|Business Finance|\n",
      "|7 Deadly Mistakes...|Business Finance|\n",
      "|Financial Stateme...|Business Finance|\n",
      "+--------------------+----------------+\n",
      "only showing top 20 rows\n",
      "\n"
     ]
    }
   ],
   "source": [
    "df.select('course_title','subject').show()"
   ]
  },
  {
   "cell_type": "code",
   "execution_count": 11,
   "id": "83acb2b5-c953-4c93-b038-0b763f80eddc",
   "metadata": {},
   "outputs": [],
   "source": [
    "data = df.select('course_title','subject')"
   ]
  },
  {
   "cell_type": "markdown",
   "id": "1427df60-751e-404c-8fb8-edb2812e5d5e",
   "metadata": {},
   "source": [
    "### Checking for missing values\n",
    "We need to check for any missing values in our dataset. This ensures that we have a well-formatted dataset that trains our model.\n",
    "\n",
    "We use the toPandas() method to check for missing values in our subject column and drop the missing values."
   ]
  },
  {
   "cell_type": "code",
   "execution_count": 13,
   "id": "12fe0d7b-7517-416e-9d43-4d8cf14a0726",
   "metadata": {},
   "outputs": [
    {
     "data": {
      "text/plain": [
       "course_title    0\n",
       "subject         6\n",
       "dtype: int64"
      ]
     },
     "execution_count": 13,
     "metadata": {},
     "output_type": "execute_result"
    }
   ],
   "source": [
    "data.toPandas()[['course_title','subject']].isnull().sum()"
   ]
  },
  {
   "cell_type": "code",
   "execution_count": 14,
   "id": "27b0a3bf-988d-45a2-b2ff-92836070a242",
   "metadata": {},
   "outputs": [],
   "source": [
    "data = data.dropna(subset=('subject'))"
   ]
  },
  {
   "cell_type": "markdown",
   "id": "97c33790-a7e5-42a1-9096-febc272ad4ff",
   "metadata": {},
   "source": [
    "Machine learning algorithms understand only numbers, so we have the texts into numeric values during this stage.\n",
    "We import all the packages required for feature engineering:"
   ]
  },
  {
   "cell_type": "code",
   "execution_count": 15,
   "id": "06d174ad-7ac0-4f23-991f-c5db86181a4b",
   "metadata": {},
   "outputs": [],
   "source": [
    "from pyspark.ml.feature import Tokenizer,StopWordsRemover,CountVectorizer,IDF\n",
    "from pyspark.ml.feature import StringIndexer"
   ]
  },
  {
   "cell_type": "markdown",
   "id": "583dd434-aedb-46aa-9129-b246582add12",
   "metadata": {},
   "source": [
    "* **I'll take out a very small fraction of the dataset that will be used to test the performance of the model later.**"
   ]
  },
  {
   "cell_type": "code",
   "execution_count": 22,
   "id": "505d2be5-a364-4597-8fb0-f6334fcb95a1",
   "metadata": {},
   "outputs": [],
   "source": [
    "(data,test_data) = data.randomSplit((0.9,0.001),seed=42)"
   ]
  },
  {
   "cell_type": "code",
   "execution_count": 23,
   "id": "79e663a9-5c92-4a00-a3c0-298a28d9ab24",
   "metadata": {},
   "outputs": [],
   "source": [
    "tokenizer = Tokenizer(inputCol='course_title',outputCol='mytokens')\n",
    "\n",
    "stopwords_remover = StopWordsRemover(inputCol='mytokens',outputCol='filtered_tokens')\n",
    "\n",
    "vectorizer = CountVectorizer(inputCol='filtered_tokens',outputCol='rawFeatures')\n",
    "\n",
    "idf = IDF(inputCol='rawFeatures',outputCol='vectorizedFeatures')"
   ]
  },
  {
   "cell_type": "markdown",
   "id": "e2b2c9f1-1d72-4fe8-a02e-c88ec94f9c3e",
   "metadata": {},
   "source": [
    "* **Adding labels**\n",
    "* **data transformation.**"
   ]
  },
  {
   "cell_type": "code",
   "execution_count": 24,
   "id": "fc9f27b1-3ed9-4f4a-904f-94f37d0fd33c",
   "metadata": {},
   "outputs": [],
   "source": [
    "labelEncoder = StringIndexer(inputCol='subject',outputCol='label').fit(data)"
   ]
  },
  {
   "cell_type": "code",
   "execution_count": 25,
   "id": "e358135b-61aa-4109-baea-c000952a0c57",
   "metadata": {},
   "outputs": [
    {
     "name": "stdout",
     "output_type": "stream",
     "text": [
      "+------------------------------------------------------------+---------------------------------------------------------------------------------------------------------------------------------------------------------------------------------------+-----+\n",
      "|course_title                                                |subject                                                                                                                                                                                |label|\n",
      "+------------------------------------------------------------+---------------------------------------------------------------------------------------------------------------------------------------------------------------------------------------+-----+\n",
      "|#1 Piano Hand Coordination: Play 10th Ballad in Eb Key songs|Musical Instruments                                                                                                                                                                    |2.0  |\n",
      "|#10 Hand Coordination - Transfer Chord Ballad 9 - C & Bb Key|Musical Instruments                                                                                                                                                                    |2.0  |\n",
      "|#12 Hand Coordination: Let your Hands dance with Ballad 9   |Musical Instruments                                                                                                                                                                    |2.0  |\n",
      "|#4 Piano Hand Coordination: Fun Piano Runs in 2 Beats C Key |Musical Instruments                                                                                                                                                                    |2.0  |\n",
      "|#5  Piano Hand Coordination:  Piano Runs in 2 Beats Eb Key  |Musical Instruments                                                                                                                                                                    |2.0  |\n",
      "|#6 Piano Hand Coordination: Play Open 10 Ballad to 9/4 Song |Musical Instruments                                                                                                                                                                    |2.0  |\n",
      "|'Greensleeves' Creative Piano Lessons Course                |Musical Instruments                                                                                                                                                                    |2.0  |\n",
      "|* An Integrated Approach to the Fundamentals of Accounting  |Business Finance                                                                                                                                                                       |1.0  |\n",
      "|000!\"\"                                                      |Learn Classical Guitar Technique play Spanish Romancehttpswwwudemycomguitartechniquestrue19513164643All Levels5 hours20131118T175959Z 265888Learn Guitar Worship Learn 4 Songs unlock 1|6.0  |\n",
      "|1 - Concepts of Statistics For Beginners Step by Step       |Business Finance                                                                                                                                                                       |1.0  |\n",
      "+------------------------------------------------------------+---------------------------------------------------------------------------------------------------------------------------------------------------------------------------------------+-----+\n",
      "only showing top 10 rows\n",
      "\n"
     ]
    }
   ],
   "source": [
    "labelEncoder.transform(data).show(10,False)"
   ]
  },
  {
   "cell_type": "markdown",
   "id": "00d74571-c36d-45c2-8fa7-b6f48658f983",
   "metadata": {},
   "source": [
    "## Dictionary of all labels\n",
    "We have to assign numeric values to the subject categories available in our dataset for easy predictions.\n",
    "\n"
   ]
  },
  {
   "cell_type": "code",
   "execution_count": 26,
   "id": "99c0113b-74d6-4431-9521-bca469fe29b7",
   "metadata": {},
   "outputs": [],
   "source": [
    "label_dict = {'Web Development':0.0,\n",
    " 'Business Finance':1.0,\n",
    " 'Musical Instruments':2.0,\n",
    " 'Graphic Design':3.0}"
   ]
  },
  {
   "cell_type": "markdown",
   "id": "81144b46-4831-4a02-9439-8323c7953325",
   "metadata": {},
   "source": [
    "As shown, Web Development is assigned 0.0, Business Finance assigned 1.0, Musical Instruments assigned 2.0, and Graphic Design assigned 3.0.\n",
    "\n",
    "We add these labels into our dataset as shown:"
   ]
  },
  {
   "cell_type": "code",
   "execution_count": 27,
   "id": "58ca6df1-9b9c-489d-91fb-4bf4838f0f19",
   "metadata": {},
   "outputs": [],
   "source": [
    "data = labelEncoder.transform(data)"
   ]
  },
  {
   "cell_type": "markdown",
   "id": "2a611573-d008-4e7e-bb4c-674e36aab6e2",
   "metadata": {},
   "source": [
    "### Splitting our dataset\n",
    "We split our dataset into train set and test set. \n",
    "\n",
    "70% of our dataset will be used for training and 30% for testing.\n",
    "\n",
    "The last stage involves building our model using the LogisticRegression algorithm.\n",
    "\n"
   ]
  },
  {
   "cell_type": "code",
   "execution_count": 30,
   "id": "4d3aa202-f079-4f61-8995-9d750b61e997",
   "metadata": {},
   "outputs": [],
   "source": [
    "(trainDF,testDF) = data.randomSplit((0.7,0.3),seed=42)"
   ]
  },
  {
   "cell_type": "markdown",
   "id": "e2901ba2-9fa3-44f8-9c66-d7fd9c987ebb",
   "metadata": {},
   "source": [
    "* **Creating estimator**\n",
    "An estimator is a function that takes data as input, fits the data, and creates a model used to make predictions."
   ]
  },
  {
   "cell_type": "code",
   "execution_count": 31,
   "id": "639d93b1-f3fc-4b2c-bce0-3d7cb5d5deaa",
   "metadata": {},
   "outputs": [],
   "source": [
    "from pyspark.ml.classification import LogisticRegression \n",
    "lr = LogisticRegression(featuresCol='vectorizedFeatures',labelCol='label')"
   ]
  },
  {
   "cell_type": "markdown",
   "id": "e985f468-a0eb-464e-9ec8-88e904922724",
   "metadata": {},
   "source": [
    "Building the pipeline\n",
    "Let’s import the Pipeline() method that we’ll use to build our model.\n",
    "\n",
    "Fitting the five stages\n",
    "We add the initialized 5 stages into the Pipeline() method."
   ]
  },
  {
   "cell_type": "code",
   "execution_count": 32,
   "id": "6dc2663c-c889-4218-9c10-d013c5c6a399",
   "metadata": {},
   "outputs": [],
   "source": [
    "from pyspark.ml import Pipeline \n",
    "pipeline = Pipeline(stages=[tokenizer,stopwords_remover,vectorizer,idf,lr])"
   ]
  },
  {
   "cell_type": "markdown",
   "id": "a0488537-4c91-4ed9-9b7b-633e08869087",
   "metadata": {},
   "source": [
    "Building model\n",
    "We build our model by fitting our model into our training dataset by using the fit() method and passing the trainDF as our parameter.\n",
    "\n",
    "Let’s initialize our model pipeline as lr_model.\n",
    "\n",
    "\n"
   ]
  },
  {
   "cell_type": "code",
   "execution_count": 33,
   "id": "471b73d3-88e1-4267-9def-ec4679b82bed",
   "metadata": {},
   "outputs": [],
   "source": [
    "lr_model = pipeline.fit(trainDF)"
   ]
  },
  {
   "cell_type": "markdown",
   "id": "8f2e48a4-e7d9-42cb-b372-e22397cb252f",
   "metadata": {},
   "source": [
    "* **Testing model**\n",
    "\n",
    "We test our model using the test dataset to see if it can classify the course title and assign the right subject.\n",
    "\n",
    "\n",
    "\n"
   ]
  },
  {
   "cell_type": "code",
   "execution_count": 35,
   "id": "24688ff7-6de2-48b5-b9d0-88b702703e3f",
   "metadata": {},
   "outputs": [],
   "source": [
    "predictions = lr_model.transform(testDF)"
   ]
  },
  {
   "cell_type": "markdown",
   "id": "325d5d2c-eee5-4c56-b8c6-0eb74d0a2c1c",
   "metadata": {},
   "source": [
    "\n",
    "To see if our model was able to do the right classification, use the following command:"
   ]
  },
  {
   "cell_type": "code",
   "execution_count": 36,
   "id": "ac9bf5aa-8963-4085-939e-f761a81ae8c8",
   "metadata": {},
   "outputs": [
    {
     "name": "stdout",
     "output_type": "stream",
     "text": [
      "+--------------------+--------------------+-----+--------------------+--------------------+--------------------+--------------------+--------------------+--------------------+----------+\n",
      "|        course_title|             subject|label|            mytokens|     filtered_tokens|         rawFeatures|  vectorizedFeatures|       rawPrediction|         probability|prediction|\n",
      "+--------------------+--------------------+-----+--------------------+--------------------+--------------------+--------------------+--------------------+--------------------+----------+\n",
      "|#12 Hand Coordina...| Musical Instruments|  2.0|[#12, hand, coord...|[#12, hand, coord...|(3624,[295,509,59...|(3624,[295,509,59...|[2.25589659512528...|[0.00514507182890...|       2.0|\n",
      "|'Greensleeves' Cr...| Musical Instruments|  2.0|['greensleeves', ...|['greensleeves', ...|(3624,[6,9,46,510...|(3624,[6,9,46,510...|[-1.3858717988728...|[2.75594285329454...|       2.0|\n",
      "|              000!\"\"|Learn Classical G...|  6.0|            [000!\"\"]|            [000!\"\"]|        (3624,[],[])|        (3624,[],[])|[4.10252349608296...|[0.00271732514424...|       1.0|\n",
      "|1 - Concepts of S...|    Business Finance|  1.0|[1, -, concepts, ...|[1, -, concepts, ...|(3624,[0,3,43,82,...|(3624,[0,3,43,82,...|[9.4153307471077,...|[0.75092189668272...|       0.0|\n",
      "|       1 hour jQuery|     Web Development|  0.0|   [1, hour, jquery]|   [1, hour, jquery]|(3624,[43,58,152]...|(3624,[43,58,152]...|[20.1486970431344...|[0.99999996990598...|       0.0|\n",
      "|1. Principles of ...|    Business Finance|  1.0|[1., principles, ...|[1., principles, ...|(3624,[102,285,91...|(3624,[102,285,91...|[-0.9074221662231...|[6.14928429974160...|       1.0|\n",
      "|10 Numbers Every ...|    Business Finance|  1.0|[10, numbers, eve...|[10, numbers, eve...|(3624,[50,115,149...|(3624,[50,115,149...|[-8.6768079079238...|[7.28898835789187...|       1.0|\n",
      "|15  Motion Graphi...|      Graphic Design|  3.0|[15, , motion, gr...|[15, , motion, gr...|(3624,[40,79,398,...|(3624,[40,79,398,...|[-17.923853708902...|[3.08447838815437...|       3.0|\n",
      "|150 Rock Guitar L...| Musical Instruments|  2.0|[150, rock, guita...|[150, rock, guita...|(3624,[7,149,168,...|(3624,[7,149,168,...|[-6.7114779925134...|[5.42853162133382...|       2.0|\n",
      "|17 Complete JavaS...|     Web Development|  0.0|[17, complete, ja...|[17, complete, ja...|(3624,[8,19,40,54...|(3624,[8,19,40,54...|[28.8433010671689...|[0.99999999999981...|       0.0|\n",
      "|188% Profit in 1Y...|    Business Finance|  1.0|[188%, profit, in...|[188%, profit, 1y...|(3624,[0,2,16,195...|(3624,[0,2,16,195...|[-10.566258315769...|[3.38378215738128...|       1.0|\n",
      "|3 documentos clav...|    Business Finance|  1.0|[3, documentos, c...|[3, documentos, c...|(3624,[60,86,204,...|(3624,[60,86,204,...|[-0.2517858724855...|[2.17187133224173...|       1.0|\n",
      "|3 step formula fo...| Musical Instruments|  2.0|[3, step, formula...|[3, step, formula...|(3624,[7,60,82,14...|(3624,[7,60,82,14...|[-3.8418821439547...|[1.73543778459427...|       2.0|\n",
      "|3. Compound Inter...|    Business Finance|  1.0|[3., compound, in...|[3., compound, in...|  (3624,[917],[1.0])|(3624,[917],[6.76...|[1.87465232577503...|[3.93085399735238...|       1.0|\n",
      "|31 Day Guitar Cha...| Musical Instruments|  2.0|[31, day, guitar,...|[31, day, guitar,...|(3624,[7,124,922]...|(3624,[7,124,922]...|[-10.428119998376...|[1.20539233997143...|       2.0|\n",
      "|3DS MAX - Learn 3...|      Graphic Design|  3.0|[3ds, max, -, lea...|[3ds, max, -, lea...|(3624,[0,1,3,87,7...|(3624,[0,1,3,87,7...|[16.8820979870037...|[0.99999919381792...|       0.0|\n",
      "|4 Easy Daily Fore...|    Business Finance|  1.0|[4, easy, daily, ...|[4, easy, daily, ...|(3624,[2,16,41,63...|(3624,[2,16,41,63...|[-5.3395120240540...|[1.90902523368075...|       1.0|\n",
      "|5 Exotic Guitar S...| Musical Instruments|  2.0|[5, exotic, guita...|[5, exotic, guita...|(3624,[7,75,249,2...|(3624,[7,75,249,2...|[0.36650766023833...|[9.09356048243478...|       2.0|\n",
      "|6. Annuities Due ...|    Business Finance|  1.0|[6., annuities, d...|[6., annuities, d...| (3624,[3295],[1.0])|(3624,[3295],[7.1...|[3.88635060289467...|[0.02346484691817...|       1.0|\n",
      "|60 Minutes to Fun...|    Business Finance|  1.0|[60, minutes, to,...|[60, minutes, fun...|(3624,[27,133,153...|(3624,[27,133,153...|[-1.1740288113773...|[1.51947134574700...|       1.0|\n",
      "+--------------------+--------------------+-----+--------------------+--------------------+--------------------+--------------------+--------------------+--------------------+----------+\n",
      "only showing top 20 rows\n",
      "\n"
     ]
    }
   ],
   "source": [
    "predictions.show()"
   ]
  },
  {
   "cell_type": "code",
   "execution_count": 37,
   "id": "da13b736-f6e7-4db0-a98c-49d89c33cc7d",
   "metadata": {},
   "outputs": [
    {
     "data": {
      "text/plain": [
       "['course_title',\n",
       " 'subject',\n",
       " 'label',\n",
       " 'mytokens',\n",
       " 'filtered_tokens',\n",
       " 'rawFeatures',\n",
       " 'vectorizedFeatures',\n",
       " 'rawPrediction',\n",
       " 'probability',\n",
       " 'prediction']"
      ]
     },
     "execution_count": 37,
     "metadata": {},
     "output_type": "execute_result"
    }
   ],
   "source": [
    "predictions.columns"
   ]
  },
  {
   "cell_type": "markdown",
   "id": "99bb5bbe-3370-4178-a0c8-616d28ac8015",
   "metadata": {},
   "source": [
    "#### Let's check the required columns to see the exact predictions of our model."
   ]
  },
  {
   "cell_type": "code",
   "execution_count": 38,
   "id": "daf66824-a5c7-4467-95ce-db73a485d4e4",
   "metadata": {},
   "outputs": [
    {
     "name": "stdout",
     "output_type": "stream",
     "text": [
      "+--------------------+--------------------+--------------------+-----+----------+\n",
      "|       rawPrediction|         probability|             subject|label|prediction|\n",
      "+--------------------+--------------------+--------------------+-----+----------+\n",
      "|[2.25589659512528...|[0.00514507182890...| Musical Instruments|  2.0|       2.0|\n",
      "|[-1.3858717988728...|[2.75594285329454...| Musical Instruments|  2.0|       2.0|\n",
      "|[4.10252349608296...|[0.00271732514424...|Learn Classical G...|  6.0|       1.0|\n",
      "|[9.4153307471077,...|[0.75092189668272...|    Business Finance|  1.0|       0.0|\n",
      "|[20.1486970431344...|[0.99999996990598...|     Web Development|  0.0|       0.0|\n",
      "|[-0.9074221662231...|[6.14928429974160...|    Business Finance|  1.0|       1.0|\n",
      "|[-8.6768079079238...|[7.28898835789187...|    Business Finance|  1.0|       1.0|\n",
      "|[-17.923853708902...|[3.08447838815437...|      Graphic Design|  3.0|       3.0|\n",
      "|[-6.7114779925134...|[5.42853162133382...| Musical Instruments|  2.0|       2.0|\n",
      "|[28.8433010671689...|[0.99999999999981...|     Web Development|  0.0|       0.0|\n",
      "+--------------------+--------------------+--------------------+-----+----------+\n",
      "only showing top 10 rows\n",
      "\n"
     ]
    }
   ],
   "source": [
    "predictions.select('rawPrediction','probability','subject','label','prediction').show(10)"
   ]
  },
  {
   "cell_type": "markdown",
   "id": "833db5ea-4151-464c-81f9-f5fdc92ca882",
   "metadata": {},
   "source": [
    "We can see from the data snippet above that our model did a very good job in predicting the correct subject_title.\n",
    "\n",
    "\n",
    "### Model evaluation\n",
    "This is checking the model accuracy so that we can know how well we trained our model.\n",
    "\n",
    "Let’s import the MulticlassClassificationEvaluator. We’ll use it to evaluate our model and calculate the accuracy score.\n",
    "\n"
   ]
  },
  {
   "cell_type": "code",
   "execution_count": 39,
   "id": "bd5a3af0-1690-4bee-91b4-55d29f15ae0b",
   "metadata": {},
   "outputs": [],
   "source": [
    "from pyspark.ml.evaluation import MulticlassClassificationEvaluator"
   ]
  },
  {
   "cell_type": "code",
   "execution_count": 40,
   "id": "00650f01-68e1-4d0c-8c6a-2f5636c3eb91",
   "metadata": {},
   "outputs": [],
   "source": [
    "evaluator = MulticlassClassificationEvaluator(labelCol='label',predictionCol='prediction',metricName='accuracy')"
   ]
  },
  {
   "cell_type": "code",
   "execution_count": 41,
   "id": "c877e23d-4500-402c-970f-4fe1797079ba",
   "metadata": {},
   "outputs": [],
   "source": [
    "accuracy = evaluator.evaluate(predictions)"
   ]
  },
  {
   "cell_type": "code",
   "execution_count": 42,
   "id": "6cf789ef-9e9b-49f1-8e99-6377d13e0582",
   "metadata": {},
   "outputs": [
    {
     "data": {
      "text/plain": [
       "0.9171483622350675"
      ]
     },
     "execution_count": 42,
     "metadata": {},
     "output_type": "execute_result"
    }
   ],
   "source": [
    "accuracy"
   ]
  },
  {
   "cell_type": "markdown",
   "id": "3ebc54c6-a02e-49cf-846a-2cfd0a97ebed",
   "metadata": {},
   "source": [
    "### Not bad!\n",
    "\n",
    "## making a new prediction\n",
    "We'll use our trained model to make predictions on some dataset that it hasn't seen before. i.e the text dataset we kept aside earlier. \n",
    "We want to see if it can predict the correct subjects.\n",
    "\n"
   ]
  },
  {
   "cell_type": "markdown",
   "id": "aa8e624b-b207-487b-a8f8-6541ee80afcb",
   "metadata": {},
   "source": [
    "\n"
   ]
  },
  {
   "cell_type": "code",
   "execution_count": 43,
   "id": "5aa354b4-aa4e-40fa-8f8a-17fd2889b339",
   "metadata": {},
   "outputs": [],
   "source": [
    "new_pred = lr_model.transform(test_data)"
   ]
  },
  {
   "cell_type": "markdown",
   "id": "b311c902-3a03-48bb-9c26-90312f8d7ad9",
   "metadata": {},
   "source": []
  },
  {
   "cell_type": "code",
   "execution_count": 44,
   "id": "95faae08-f0f7-42f5-bf2a-13b164d9e351",
   "metadata": {},
   "outputs": [
    {
     "name": "stdout",
     "output_type": "stream",
     "text": [
      "+--------------------+----------------+--------------------+--------------------+--------------------+--------------------+--------------------+--------------------+----------+\n",
      "|        course_title|         subject|            mytokens|     filtered_tokens|         rawFeatures|  vectorizedFeatures|       rawPrediction|         probability|prediction|\n",
      "+--------------------+----------------+--------------------+--------------------+--------------------+--------------------+--------------------+--------------------+----------+\n",
      "|'Geometry Of Chan...|Business Finance|['geometry, of, c...|['geometry, chanc...|   (3624,[98],[1.0])|(3624,[98],[4.688...|[0.52016269357014...|[4.13674414433771...|       1.0|\n",
      "|Angular 4 (2+) Cr...| Web Development|[angular, 4, (2+)...|[angular, 4, (2+)...|(3624,[3,6,53,63,...|(3624,[3,6,53,63,...|[25.3596667781611...|[0.99999999999007...|       0.0|\n",
      "|AngularJs :basics...| Web Development|[angularjs, :basi...|[angularjs, :basi...|(3624,[3,135,187]...|(3624,[3,135,187]...|[26.3565834177491...|[0.99999999999777...|       0.0|\n",
      "|Elite Trend Trade...|Business Finance|[elite, trend, tr...|[elite, trend, tr...|(3624,[1,4,16,25,...|(3624,[1,4,16,25,...|[-12.489283868673...|[1.84053886220911...|       1.0|\n",
      "|Ultimate Photosho...|  Graphic Design|[ultimate, photos...|[ultimate, photos...|(3624,[17,18,62,9...|(3624,[17,18,62,9...|[-0.5618535885263...|[1.68278610549832...|       3.0|\n",
      "+--------------------+----------------+--------------------+--------------------+--------------------+--------------------+--------------------+--------------------+----------+\n",
      "\n"
     ]
    }
   ],
   "source": [
    "new_pred.show()"
   ]
  },
  {
   "cell_type": "markdown",
   "id": "92ab7cef-1e7b-4619-9ec6-43726fe6004f",
   "metadata": {},
   "source": [
    "Get all the available columns."
   ]
  },
  {
   "cell_type": "code",
   "execution_count": 45,
   "id": "afb15755-b6f3-4939-81d0-fd252dc365da",
   "metadata": {},
   "outputs": [
    {
     "data": {
      "text/plain": [
       "['course_title',\n",
       " 'subject',\n",
       " 'mytokens',\n",
       " 'filtered_tokens',\n",
       " 'rawFeatures',\n",
       " 'vectorizedFeatures',\n",
       " 'rawPrediction',\n",
       " 'probability',\n",
       " 'prediction']"
      ]
     },
     "execution_count": 45,
     "metadata": {},
     "output_type": "execute_result"
    }
   ],
   "source": [
    "new_pred.columns"
   ]
  },
  {
   "cell_type": "markdown",
   "id": "879bf8e4-b1e9-47ed-b2ee-9720530691e3",
   "metadata": {},
   "source": [
    "From the above columns, let’s select the necessary columns that give the prediction results clearly."
   ]
  },
  {
   "cell_type": "code",
   "execution_count": 48,
   "id": "fc4d8a2c-a0e0-4cbb-82df-d06ec18c472b",
   "metadata": {},
   "outputs": [
    {
     "name": "stdout",
     "output_type": "stream",
     "text": [
      "+--------------------+--------------------+--------------------+----------+\n",
      "|        course_title|       rawPrediction|         probability|prediction|\n",
      "+--------------------+--------------------+--------------------+----------+\n",
      "|'Geometry Of Chan...|[0.52016269357014...|[4.13674414433771...|       1.0|\n",
      "|Angular 4 (2+) Cr...|[25.3596667781611...|[0.99999999999007...|       0.0|\n",
      "|AngularJs :basics...|[26.3565834177491...|[0.99999999999777...|       0.0|\n",
      "|Elite Trend Trade...|[-12.489283868673...|[1.84053886220911...|       1.0|\n",
      "|Ultimate Photosho...|[-0.5618535885263...|[1.68278610549832...|       3.0|\n",
      "+--------------------+--------------------+--------------------+----------+\n",
      "\n",
      "\n",
      " {'Web Development': 0.0, 'Business Finance': 1.0, 'Musical Instruments': 2.0, 'Graphic Design': 3.0}\n"
     ]
    }
   ],
   "source": [
    "new_pred.select('course_title','rawPrediction','probability','prediction').show()\n",
    "\n",
    "print(\"\\n\", label_dict)"
   ]
  },
  {
   "cell_type": "markdown",
   "id": "eab004cf-cc61-4714-9175-e3f2fec0d197",
   "metadata": {},
   "source": [
    "### The prediction is accurate, which can be seen from our created label dictionary.\n",
    "\n"
   ]
  },
  {
   "cell_type": "code",
   "execution_count": null,
   "id": "69820163-fc53-48de-8c25-0e397d6b223b",
   "metadata": {},
   "outputs": [],
   "source": []
  }
 ],
 "metadata": {
  "kernelspec": {
   "display_name": "Python 3 (ipykernel)",
   "language": "python",
   "name": "python3"
  },
  "language_info": {
   "codemirror_mode": {
    "name": "ipython",
    "version": 3
   },
   "file_extension": ".py",
   "mimetype": "text/x-python",
   "name": "python",
   "nbconvert_exporter": "python",
   "pygments_lexer": "ipython3",
   "version": "3.9.7"
  }
 },
 "nbformat": 4,
 "nbformat_minor": 5
}
